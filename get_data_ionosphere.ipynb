{
 "cells": [
  {
   "cell_type": "code",
   "execution_count": 1,
   "id": "9f55e4fa-af8c-45fa-98c6-b2405992bd4f",
   "metadata": {},
   "outputs": [],
   "source": [
    "import pandas as pd\n",
    "import numpy as np\n",
    "import os\n",
    "import subprocess\n",
    "import sys\n",
    "from pathlib import Path\n",
    "from datetime import datetime\n",
    "from datetime import timedelta\n",
    "from multiprocessing import Process, Pool\n",
    "from dateutil.relativedelta import *\n",
    "import dateutil.parser"
   ]
  },
  {
   "cell_type": "code",
   "execution_count": 2,
   "id": "8f8a9e47-87c1-4518-b4d5-63ba72d21b9f",
   "metadata": {},
   "outputs": [],
   "source": [
    "GPS_info = pd.read_csv(\"IGSNetwork.csv\")\n",
    "df_stations = GPS_info[\"#StationName\"]"
   ]
  },
  {
   "cell_type": "code",
   "execution_count": 3,
   "id": "12b6c7a1-4116-48f6-92f5-f2261625c1f2",
   "metadata": {},
   "outputs": [],
   "source": [
    "\n",
    "pre_path = \"D://dataframe\"\n",
    "\n",
    "headers = ['dates', 'tec']\n",
    "dtypes = {'dates': 'str', 'tec': 'float'}\n",
    "parse_dates = ['dates']"
   ]
  },
  {
   "cell_type": "code",
   "execution_count": 4,
   "id": "251c9d36-ef8c-40e8-8b5e-97beaec2f38d",
   "metadata": {},
   "outputs": [],
   "source": [
    "def read_csv_and_erase(station):\n",
    "    headers = ['dates', 'tec']\n",
    "    dtypes = {'dates': 'str', 'tec': 'float'}\n",
    "    parse_dates = ['dates']\n",
    "    path =\"{pre_path}/{station}.csv.xz\".format(pre_path = pre_path, station = station)\n",
    "    if os.path.isfile(path): \n",
    "        df_output = pd.read_csv(path, index_col='dates')\n",
    "    else:\n",
    "        df_output = pd.DataFrame()\n",
    "    for file in Path(\".\").glob(\"*{station}*\".format(station=station)):\n",
    "        with file as f:\n",
    "            current_df_output = pd.read_csv(f, header=None,  comment='#',sep = ' ',names=headers, dtype=dtypes, parse_dates=parse_dates)\n",
    "            current_df_output = current_df_output.set_index(\"dates\")\n",
    "            df_output = pd.concat([df_output, current_df_output])\n",
    "        df_output.to_csv(path , compression = 'xz')\n",
    "        file.unlink()"
   ]
  },
  {
   "cell_type": "code",
   "execution_count": 5,
   "id": "18a3dbad-a5fd-48d8-ace9-cbadbaf2ab18",
   "metadata": {},
   "outputs": [],
   "source": [
    "def get_tec_station(start_day, end_day, station):\n",
    "    all_days = [start_day+timedelta(days=x) for x in range((end_day-start_day).days)]\n",
    "    for day in all_days:\n",
    "        print(str(station) + \" -- \" + str(day.strftime('%Y-%m-%d')))\n",
    "        result = subprocess.run([\"ionolabtec.exe\", str(station), str(day.strftime('%Y-%m-%d'))], capture_output=True)\n",
    "        if \"does not exist.\\\\r\\\\n\" in str(result.stdout):\n",
    "            print(str(station) + \" is not valid\")\n",
    "        read_csv_and_erase(str(station))\n",
    "    return 0"
   ]
  },
  {
   "cell_type": "code",
   "execution_count": null,
   "id": "2d860202-c312-4a13-8b40-cd2c8b2006a2",
   "metadata": {},
   "outputs": [
    {
     "name": "stdout",
     "output_type": "stream",
     "text": [
      "ABMF00GLP -- 2020-01-01\n",
      "ABPO00MDG -- 2020-01-01\n",
      "AC2300USA -- 2020-01-01\n",
      "AC2400USA -- 2020-01-01\n",
      "ACRG00GHA -- 2020-01-01\n",
      "ACSO00USA -- 2020-01-01\n",
      "ADIS00ETH -- 2020-01-01\n",
      "AGGO00ARG -- 2020-01-01\n",
      "AIRA00JPN -- 2020-01-01\n",
      "AJAC00FRA -- 2020-01-01\n",
      "ACRG00GHA is not valid\n",
      "ACSO00USA is not valid\n",
      "ACRG00GHA -- 2020-01-02\n",
      "ACSO00USA -- 2020-01-02\n",
      "ADIS00ETH is not valid\n",
      "ADIS00ETH -- 2020-01-02\n",
      "AC2300USA is not valid\n",
      "AC2300USA -- 2020-01-02\n",
      "AJAC00FRA is not valid\n",
      "AJAC00FRA -- 2020-01-02\n",
      "AC2400USA is not valid\n",
      "AC2400USA -- 2020-01-02\n",
      "AIRA00JPN -- 2020-01-02\n",
      "ABPO00MDG -- 2020-01-02\n",
      "AGGO00ARG -- 2020-01-02\n",
      "ABMF00GLP -- 2020-01-02\n",
      "AJAC00FRA is not valid\n",
      "AJAC00FRA -- 2020-01-03\n",
      "ACSO00USA is not valid\n",
      "ACSO00USA -- 2020-01-03\n",
      "ADIS00ETH is not valid\n",
      "ADIS00ETH -- 2020-01-03\n",
      "ACRG00GHA is not valid\n",
      "ACRG00GHA -- 2020-01-03\n",
      "AC2300USA is not valid\n",
      "AC2300USA -- 2020-01-03\n",
      "AC2400USA is not valid\n",
      "AC2400USA -- 2020-01-03\n",
      "AIRA00JPN -- 2020-01-03\n",
      "AGGO00ARG -- 2020-01-03\n",
      "ABPO00MDG -- 2020-01-03\n",
      "ABMF00GLP -- 2020-01-03\n",
      "AJAC00FRA is not valid\n",
      "AJAC00FRA -- 2020-01-04\n",
      "ADIS00ETH is not valid\n",
      "ADIS00ETH -- 2020-01-04\n",
      "AC2400USA is not valid\n",
      "AC2400USA -- 2020-01-04\n",
      "AC2300USA is not valid\n",
      "AC2300USA -- 2020-01-04\n",
      "ACSO00USA is not valid\n",
      "ACSO00USA -- 2020-01-04ACRG00GHA is not valid\n",
      "\n",
      "ACRG00GHA -- 2020-01-04\n",
      "AIRA00JPN -- 2020-01-04\n",
      "AGGO00ARG -- 2020-01-04\n",
      "ABPO00MDG -- 2020-01-04\n",
      "ABMF00GLP -- 2020-01-04\n"
     ]
    }
   ],
   "source": [
    "import concurrent.futures\n",
    "import urllib.request\n",
    "\n",
    "stations =  list(df_stations[0:10])\n",
    "\n",
    "def f(station):\n",
    "    start_day = datetime(2020, 1, 1).date()\n",
    "    end_day = datetime(2020, 1, 5).date()\n",
    "    get_tec_station(start_day,end_day, station)\n",
    "\n",
    "with concurrent.futures.ThreadPoolExecutor(max_workers = 10) as executor:\n",
    "\n",
    "    future_to_url = {executor.submit(f, station): station for station in stations}\n",
    "    for future in concurrent.futures.as_completed(future_to_url):\n",
    "        url = future_to_url[future]\n",
    "        try:\n",
    "            data = future.result()\n",
    "        except Exception as exc:\n",
    "            print('%r generated an exception: %s' % (url, exc))\n",
    "        else:\n",
    "            print('%r page is %d bytes' % (url, len(data)))"
   ]
  },
  {
   "cell_type": "code",
   "execution_count": null,
   "id": "67f7faea-52eb-4a15-b1d9-43be2d9abe68",
   "metadata": {},
   "outputs": [],
   "source": []
  }
 ],
 "metadata": {
  "kernelspec": {
   "display_name": "Python 3 (ipykernel)",
   "language": "python",
   "name": "python3"
  },
  "language_info": {
   "codemirror_mode": {
    "name": "ipython",
    "version": 3
   },
   "file_extension": ".py",
   "mimetype": "text/x-python",
   "name": "python",
   "nbconvert_exporter": "python",
   "pygments_lexer": "ipython3",
   "version": "3.9.12"
  }
 },
 "nbformat": 4,
 "nbformat_minor": 5
}
